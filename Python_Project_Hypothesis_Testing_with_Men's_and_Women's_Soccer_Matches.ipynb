{
  "nbformat": 4,
  "nbformat_minor": 0,
  "metadata": {
    "colab": {
      "provenance": [],
      "authorship_tag": "ABX9TyNKJ6sqDR9qTKbetRqFijkf",
      "include_colab_link": true
    },
    "kernelspec": {
      "name": "python3",
      "display_name": "Python 3"
    },
    "language_info": {
      "name": "python"
    }
  },
  "cells": [
    {
      "cell_type": "markdown",
      "metadata": {
        "id": "view-in-github",
        "colab_type": "text"
      },
      "source": [
        "<a href=\"https://colab.research.google.com/github/feliciamargareta/hypothesis-testing-for-two-unpaired-group/blob/main/Python_Project_Hypothesis_Testing_with_Men's_and_Women's_Soccer_Matches.ipynb\" target=\"_parent\"><img src=\"https://colab.research.google.com/assets/colab-badge.svg\" alt=\"Open In Colab\"/></a>"
      ]
    },
    {
      "cell_type": "markdown",
      "source": [
        "You're working as a sports journalist at a major online sports media company, specializing in soccer analysis and reporting. You've been watching both men's and women's international soccer matches for a number of years, and your gut instinct tells you that more goals are scored in women's international football matches than men's. This would make an interesting investigative article that your subscribers are bound to love, but you'll need to perform a valid statistical hypothesis test to be sure!\n",
        "\n",
        "While scoping this project, you acknowledge that the sport has changed a lot over the years, and performances likely vary a lot depending on the tournament, so you decide to limit the data used in the analysis to only official FIFA World Cup matches (not including qualifiers) since 2002-01-01.\n",
        "\n",
        "You create two datasets containing the results of every official men's and women's international football match since the 19th century, which you scraped from a reliable online source. This data is stored in two CSV files: women_results.csv and men_results.csv.\n",
        "\n",
        "The question you are trying to determine the answer to is:\n",
        "\n",
        "Are more goals scored in women's international soccer matches than men's?\n",
        "\n",
        "You assume a 10% significance level, and use the following null and alternative hypotheses:\n",
        "\n",
        "H_0 : The mean number of goals scored in women's international soccer matches is the same as men's.\n",
        "\n",
        "H_A : The mean number of goals scored in women's international soccer matches is greater than men's."
      ],
      "metadata": {
        "id": "dFJwQy03TGKY"
      }
    },
    {
      "cell_type": "code",
      "source": [
        "# import packages\n",
        "import pandas as pd\n",
        "import matplotlib.pyplot as plt\n",
        "\n",
        "# install & import pingouin package\n",
        "!pip install pingouin\n",
        "import pingouin"
      ],
      "metadata": {
        "id": "3pr0UHJwTOec"
      },
      "execution_count": null,
      "outputs": []
    },
    {
      "cell_type": "markdown",
      "source": [
        "# 1. Exploratory Data Analysis\n",
        "Load the data from men_results.csv and women_results.csv to understand its contents."
      ],
      "metadata": {
        "id": "joumtdUPZmRW"
      }
    },
    {
      "cell_type": "code",
      "source": [
        "# Load men's and women's datasets\n",
        "men = pd.read_csv('men_results.csv')\n",
        "women = pd.read_csv('women_results.csv')"
      ],
      "metadata": {
        "id": "YP1l4xTbUBj_"
      },
      "execution_count": 2,
      "outputs": []
    },
    {
      "cell_type": "code",
      "source": [
        "# check datatype\n",
        "print(men.info())\n",
        "print(women.info())"
      ],
      "metadata": {
        "id": "v2KuM7M3VTN2"
      },
      "execution_count": null,
      "outputs": []
    },
    {
      "cell_type": "markdown",
      "source": [
        "by checking the datatype, we notice that the 'date' column in men and women dataset is wrong, let's change the datatype to datetime type"
      ],
      "metadata": {
        "id": "ZaAupawgerEo"
      }
    },
    {
      "cell_type": "code",
      "source": [
        "# change date to datetime type\n",
        "men['date']=pd.to_datetime(men['date'])\n",
        "women['date'] = pd.to_datetime(women['date'])"
      ],
      "metadata": {
        "id": "ERRFiuNhVWvp"
      },
      "execution_count": 4,
      "outputs": []
    },
    {
      "cell_type": "markdown",
      "source": [
        "#2. Filtering the data\n",
        "Filter the data to only include official FIFA World Cup matches that took place after 2002-01-01.\n"
      ],
      "metadata": {
        "id": "E5tAVUcIZ4lm"
      }
    },
    {
      "cell_type": "code",
      "source": [
        "men_subset = men[(men['tournament'].isin(['FIFA World Cup'])) &(men['date']>'2002-01-01') ]\n",
        "women_subset = women[(women['tournament'].isin(['FIFA World Cup'])) &(women['date']>'2002-01-01') ]\n",
        "print(men_subset.head())\n",
        "print(women_subset.head())"
      ],
      "metadata": {
        "colab": {
          "base_uri": "https://localhost:8080/"
        },
        "id": "F2PxcLDEVXgV",
        "outputId": "66e87b0c-1cb3-49e0-9716-b41a7e6745eb"
      },
      "execution_count": 5,
      "outputs": [
        {
          "output_type": "stream",
          "name": "stdout",
          "text": [
            "       Unnamed: 0       date            home_team     away_team  home_score  \\\n",
            "25164       25164 2002-05-31               France       Senegal           0   \n",
            "25165       25165 2002-06-01              Germany  Saudi Arabia           8   \n",
            "25166       25166 2002-06-01  Republic of Ireland      Cameroon           1   \n",
            "25167       25167 2002-06-01              Uruguay       Denmark           1   \n",
            "25168       25168 2002-06-02            Argentina       Nigeria           1   \n",
            "\n",
            "       away_score      tournament  \n",
            "25164           1  FIFA World Cup  \n",
            "25165           0  FIFA World Cup  \n",
            "25166           1  FIFA World Cup  \n",
            "25167           2  FIFA World Cup  \n",
            "25168           0  FIFA World Cup  \n",
            "      Unnamed: 0       date      home_team    away_team  home_score  \\\n",
            "1600        1600 2003-09-20        Nigeria  North Korea           0   \n",
            "1601        1601 2003-09-20         Norway       France           2   \n",
            "1602        1602 2003-09-20        Germany       Canada           4   \n",
            "1603        1603 2003-09-20          Japan    Argentina           6   \n",
            "1604        1604 2003-09-21  United States       Sweden           3   \n",
            "\n",
            "      away_score      tournament  \n",
            "1600           3  FIFA World Cup  \n",
            "1601           0  FIFA World Cup  \n",
            "1602           1  FIFA World Cup  \n",
            "1603           0  FIFA World Cup  \n",
            "1604           1  FIFA World Cup  \n"
          ]
        }
      ]
    },
    {
      "cell_type": "markdown",
      "source": [
        "# 3. Choosing the correct hypothesis\n",
        "Use EDA to determine the appropriate hypothesis test for this dataset and scenario.\n",
        "\n",
        "We know that the data we want to test coming from 2 independent groups 'men' & 'women', in this scenario, we need to use unpaired two sample test\n",
        "for parametric test, we can use unpaired t-test --> but this need to follow 3 assumption:\n",
        "- randomness\n",
        "- independent\n",
        "- sample size large enough (depends on the test)\n",
        "- the distribution following normal distribution.\n",
        "\n",
        "if the assumption is failed to complete, we can use the non-parametric test which is Wilcoxon-Mann Whitney Test"
      ],
      "metadata": {
        "id": "GOvWvvYUVcSf"
      }
    },
    {
      "cell_type": "code",
      "source": [
        "# checking the sample size of each sample\n",
        "print(men_subset.shape)\n",
        "print(women_subset.shape)"
      ],
      "metadata": {
        "colab": {
          "base_uri": "https://localhost:8080/"
        },
        "id": "G4h0x4loVfKU",
        "outputId": "bf5ad3cd-062f-4907-ebab-849c399bbe52"
      },
      "execution_count": 6,
      "outputs": [
        {
          "output_type": "stream",
          "name": "stdout",
          "text": [
            "(384, 7)\n",
            "(200, 7)\n"
          ]
        }
      ]
    },
    {
      "cell_type": "markdown",
      "source": [
        "The sample size for each group is >30, which is large enough to use t-test.\n",
        "let's check the normality of the total score by plotting the histogram"
      ],
      "metadata": {
        "id": "NfcO85RwVjF2"
      }
    },
    {
      "cell_type": "code",
      "source": [
        "# checking the normality of the data\n",
        "men_subset['total_score'] = men_subset['home_score']+men_subset['away_score']\n",
        "women_subset['total_score'] = women_subset['home_score']+women_subset['away_score']\n",
        "\n",
        "plt.hist(men_subset['total_score'])\n",
        "plt.title('Men Total Score for Fifa 2002')\n",
        "plt.show()"
      ],
      "metadata": {
        "colab": {
          "base_uri": "https://localhost:8080/",
          "height": 666
        },
        "id": "_hnEPGOEVlaT",
        "outputId": "36e260b9-ff04-45bf-e55c-4a49edacd4d4"
      },
      "execution_count": 7,
      "outputs": [
        {
          "output_type": "stream",
          "name": "stderr",
          "text": [
            "<ipython-input-7-8d36ccea8f65>:2: SettingWithCopyWarning: \n",
            "A value is trying to be set on a copy of a slice from a DataFrame.\n",
            "Try using .loc[row_indexer,col_indexer] = value instead\n",
            "\n",
            "See the caveats in the documentation: https://pandas.pydata.org/pandas-docs/stable/user_guide/indexing.html#returning-a-view-versus-a-copy\n",
            "  men_subset['total_score'] = men_subset['home_score']+men_subset['away_score']\n",
            "<ipython-input-7-8d36ccea8f65>:3: SettingWithCopyWarning: \n",
            "A value is trying to be set on a copy of a slice from a DataFrame.\n",
            "Try using .loc[row_indexer,col_indexer] = value instead\n",
            "\n",
            "See the caveats in the documentation: https://pandas.pydata.org/pandas-docs/stable/user_guide/indexing.html#returning-a-view-versus-a-copy\n",
            "  women_subset['total_score'] = women_subset['home_score']+women_subset['away_score']\n"
          ]
        },
        {
          "output_type": "display_data",
          "data": {
            "text/plain": [
              "<Figure size 640x480 with 1 Axes>"
            ],
            "image/png": "[encoded data removed]"
          },
          "metadata": {}
        }
      ]
    },
    {
      "cell_type": "code",
      "source": [
        "plt.hist(women_subset['total_score'])\n",
        "plt.title('Women Total Score for Fifa 2002')\n",
        "plt.show()\n",
        "plt.clf()\n"
      ],
      "metadata": {
        "colab": {
          "base_uri": "https://localhost:8080/",
          "height": 470
        },
        "id": "P-vcrdGoVnvz",
        "outputId": "6a4f368b-5cf2-4e9e-e4d0-bceacab3543b"
      },
      "execution_count": 8,
      "outputs": [
        {
          "output_type": "display_data",
          "data": {
            "text/plain": [
              "<Figure size 640x480 with 1 Axes>"
            ],
            "image/png": "[encoded data removed]"
          },
          "metadata": {}
        },
        {
          "output_type": "display_data",
          "data": {
            "text/plain": [
              "<Figure size 640x480 with 0 Axes>"
            ]
          },
          "metadata": {}
        }
      ]
    },
    {
      "cell_type": "markdown",
      "source": [
        "from the histogram distribution above, we can see clearly that women total score is right skewed, and there's a gap in the men's distribution, which is not normally distributed.\n",
        "since the normality is failed, so it's better to use non-parametric Wilcoxon Mann Whitney Test instead."
      ],
      "metadata": {
        "id": "z5Rb7IhCVqB4"
      }
    },
    {
      "cell_type": "markdown",
      "source": [
        "# 4. Performing Hypothesis Test\n",
        "to apply the MWU test, we need to combine the data into 1 dataframe & transform the long format to wide format data."
      ],
      "metadata": {
        "id": "rOVHnkNoVsx9"
      }
    },
    {
      "cell_type": "code",
      "source": [
        "# adding group column to differentiate men and women data set\n",
        "men_subset['group'] = 'men'\n",
        "women_subset['group'] = 'women'\n",
        "\n",
        "# Combine men & women dataset\n",
        "fifa_combine = pd.concat([men_subset,women_subset], axis = 0, ignore_index= True )"
      ],
      "metadata": {
        "id": "JUEEWOUJVvFk"
      },
      "execution_count": null,
      "outputs": []
    },
    {
      "cell_type": "code",
      "source": [
        "# create a subset to only select group and totalscore\n",
        "fifa_comb_subset = fifa_combine[['group','total_score']]\n",
        "\n",
        "# transform the data to the wide format\n",
        "fifa_comb_pivot = fifa_comb_subset.pivot(columns = 'group', values = 'total_score')\n",
        "print(fifa_comb_pivot)"
      ],
      "metadata": {
        "colab": {
          "base_uri": "https://localhost:8080/"
        },
        "id": "CdMf_FH4Vw5c",
        "outputId": "b352859d-ca63-4c03-b6fd-0264e4789125"
      },
      "execution_count": 10,
      "outputs": [
        {
          "output_type": "stream",
          "name": "stdout",
          "text": [
            "group  men  women\n",
            "0      1.0    NaN\n",
            "1      8.0    NaN\n",
            "2      2.0    NaN\n",
            "3      3.0    NaN\n",
            "4      1.0    NaN\n",
            "..     ...    ...\n",
            "579    NaN    3.0\n",
            "580    NaN    3.0\n",
            "581    NaN    1.0\n",
            "582    NaN    3.0\n",
            "583    NaN    2.0\n",
            "\n",
            "[584 rows x 2 columns]\n"
          ]
        }
      ]
    },
    {
      "cell_type": "code",
      "source": [
        "# Now the data format is already appropriate to applied the hypothesis test MWU\n",
        "\n",
        "result_mwu = pingouin.mwu(\n",
        "    x = fifa_comb_pivot['women'],\n",
        "    y = fifa_comb_pivot['men'],\n",
        "    alternative = 'greater'\n",
        ")\n",
        "print(result_mwu)"
      ],
      "metadata": {
        "colab": {
          "base_uri": "https://localhost:8080/"
        },
        "id": "TXh74QbYVy0Z",
        "outputId": "5f16c5c4-7f63-47bf-b696-5599d4b94e21"
      },
      "execution_count": 11,
      "outputs": [
        {
          "output_type": "stream",
          "name": "stdout",
          "text": [
            "       U-val alternative     p-val       RBC      CLES\n",
            "MWU  43273.0     greater  0.005107 -0.126901  0.563451\n"
          ]
        }
      ]
    },
    {
      "cell_type": "code",
      "source": [
        "# Extract p-value as a float\n",
        "p_val = result_mwu['p-val'].values[0]\n",
        "print(f'p-value: {p_val}')"
      ],
      "metadata": {
        "colab": {
          "base_uri": "https://localhost:8080/"
        },
        "id": "AWiqZet4V0vQ",
        "outputId": "4610daf7-3aea-42fb-f475-bff16fb6e25a"
      },
      "execution_count": 16,
      "outputs": [
        {
          "output_type": "stream",
          "name": "stdout",
          "text": [
            "p-value: 0.005106609825443641\n"
          ]
        }
      ]
    },
    {
      "cell_type": "markdown",
      "source": [
        "# 5. Interpreting the result of the hypothesis test\n",
        "Interpret the p-value to determine if there is statistical significance between the two groups, assuming a 10% significance level."
      ],
      "metadata": {
        "id": "Ev7IsQRedr-X"
      }
    },
    {
      "cell_type": "code",
      "source": [
        "# Determine hypothesis test result using sig. level\n",
        "alpha = 0.1 #known from the instruction\n",
        "if p_val <= alpha:\n",
        "    result = 'reject'\n",
        "    conclusion = \"The mean number of goals scored in women's international soccer matches is greater than men's.\"\n",
        "else:\n",
        "    result = 'fail to reject'\n",
        "    conclusion = \"The mean number of goals scored in women's international soccer matches is as same as men's.\""
      ],
      "metadata": {
        "id": "8gvlc3TUV2ll"
      },
      "execution_count": 20,
      "outputs": []
    },
    {
      "cell_type": "code",
      "source": [
        "result_dict = {'p_val': p_val, 'result':result}\n",
        "print(f\"Since the p-value of {p_val} < alpha of {alpha}, so we {result} the null hypothesis.\")\n",
        "print(f\"We can conclude that {conclusion}\")"
      ],
      "metadata": {
        "colab": {
          "base_uri": "https://localhost:8080/"
        },
        "id": "iTqI0ut1V4Q2",
        "outputId": "422a6197-fb7d-4edd-807d-501ab9b29916"
      },
      "execution_count": 22,
      "outputs": [
        {
          "output_type": "stream",
          "name": "stdout",
          "text": [
            "Since the p-value of 0.005106609825443641 < alpha of 0.1, so we reject the null hypothesis.\n",
            "We can conclude that The mean number of goals scored in women's international soccer matches is greater than men's.\n"
          ]
        }
      ]
    }
  ]
}